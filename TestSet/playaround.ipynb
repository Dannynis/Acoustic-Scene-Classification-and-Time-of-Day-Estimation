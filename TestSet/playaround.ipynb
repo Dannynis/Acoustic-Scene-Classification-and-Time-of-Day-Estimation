{
 "cells": [
  {
   "cell_type": "code",
   "execution_count": 1,
   "metadata": {},
   "outputs": [
    {
     "name": "stderr",
     "output_type": "stream",
     "text": [
      "d:\\ProgramData\\anaconda3\\lib\\site-packages\\paramiko\\transport.py:219: CryptographyDeprecationWarning: Blowfish has been deprecated\n",
      "  \"class\": algorithms.Blowfish,\n"
     ]
    }
   ],
   "source": [
    "import torch\n",
    "import librosa\n",
    "import soundfile as sf\n",
    "import skimage.measure\n",
    "import numpy as np\n"
   ]
  },
  {
   "cell_type": "code",
   "execution_count": 2,
   "metadata": {},
   "outputs": [],
   "source": [
    "from torch import nn\n",
    "import torch.nn as nn\n",
    "import torch\n",
    "import torch.nn.functional as F"
   ]
  },
  {
   "cell_type": "code",
   "execution_count": 39,
   "metadata": {},
   "outputs": [],
   "source": [
    "import soundfile as sf\n",
    "import tqdm"
   ]
  },
  {
   "cell_type": "code",
   "execution_count": 3,
   "metadata": {},
   "outputs": [],
   "source": [
    "class CnnAudioNet(nn.Module):\n",
    "    def __init__(self,numClasses):\n",
    "        super(CnnAudioNet,self).__init__()\n",
    "        self.num_classes = numClasses\n",
    "        self.fc_features = 64\n",
    "        self.C1 = nn.Conv2d(2,32,3,padding=1)\n",
    "        self.C11 = nn.Conv2d(32,32,3,padding=1)\n",
    "        self.C2 = nn.Conv2d(32,64,3,padding=1)\n",
    "        self.C22 = nn.Conv2d(64,64,3,padding=1)\n",
    "        self.C3 = nn.Conv2d(64,128,3,padding=1)\n",
    "        self.C33 = nn.Conv2d(128,128,3,padding=1)\n",
    "        \n",
    "        self.BN1 = nn.BatchNorm2d(32)\n",
    "        self.BN11 = nn.BatchNorm2d(32)\n",
    "        self.BN2 = nn.BatchNorm2d(64)\n",
    "        self.BN22 = nn.BatchNorm2d(64)\n",
    "        self.BN3 = nn.BatchNorm2d(128)\n",
    "        self.BN33 = nn.BatchNorm2d(128)\n",
    "\n",
    "        self.BNFC = nn.BatchNorm1d(self.fc_features)\n",
    "        self.maxpool1 = nn.MaxPool2d(2,2)\n",
    "        self.maxpool2 = nn.MaxPool2d((2,2),(2,2))\n",
    "        self.softmax = nn.Softmax(dim=1)\n",
    "        \n",
    "        self.flatten = torch.nn.Flatten()\n",
    "        \n",
    "        # self.fc1 = nn.Linear(64*32*32,self.fc_features)\n",
    "        # self.fc2 = nn.Linear(self.fc_features + 1,self.num_classes) \n",
    "        self.fc1 = nn.Linear(1152,self.fc_features)\n",
    "        self.fc2 = nn.Linear(self.fc_features, 1) \n",
    "        self.dropout = nn.Dropout(0.35)\n",
    "\n",
    "        self.BNout = nn.BatchNorm1d(1)\n",
    "        self.sigmoid = nn.Sigmoid()\n",
    "        self.tanh = nn.Tanh()\n",
    "  \n",
    "    def forward(self,x,timestamp):\n",
    "        # add sequence of convolutional and max pooling layers\n",
    "        x = self.maxpool1(F.relu(self.BN1(self.C1(x))))\n",
    "        x = self.maxpool1(F.relu(self.BN11(self.C11(x))))\n",
    "        x = self.maxpool1(F.relu(self.BN2(self.C2(x))))\n",
    "        x = self.maxpool1(F.relu(self.BN22(self.C22(x))))\n",
    "        x = self.maxpool1(F.relu(self.BN3(self.C3(x))))\n",
    "        x = self.maxpool1(F.relu(self.BN33(self.C33(x))))\n",
    "        # flatten image input\n",
    "        x = x.view(-1,1152)\n",
    "        x =  self.BNFC(self.fc1(x))\n",
    "        x = self.dropout(x)\n",
    "        if not time_test:\n",
    "          x = torch.cat((x, extra_feature/240), 1) #normalize extra_feature\n",
    "          x = self.fc2(x)\n",
    "        else:\n",
    "          # x = torch.cat((x, (extra_feature-2)/100), 1) #normalize extra_feature\n",
    "          x = self.fc2(x)\n",
    "          x = self.BNout(x)\n",
    "          x = self.sigmoid(x) * 1440\n",
    "        #x = self.softmax(x) #already included in CrossEntropyLoss\n",
    "        return x\n",
    "        \n",
    "\n",
    "class HPSSCnnAudioNet(nn.Module):\n",
    "    def __init__(self,numClasses):\n",
    "        super(HPSSCnnAudioNet,self).__init__()\n",
    "        self.num_classes = numClasses\n",
    "        self.fc_features = 64\n",
    "        self.C1 = nn.Conv2d(2,32,3,padding=1)\n",
    "        self.C11 = nn.Conv2d(32,32,3,padding=1)\n",
    "        self.C2 = nn.Conv2d(32,64,3,padding=1)\n",
    "        self.C22 = nn.Conv2d(64,64,3,padding=1)\n",
    "        self.C3 = nn.Conv2d(64,128,3,padding=1)\n",
    "        self.C33 = nn.Conv2d(128,128,3,padding=1)\n",
    "        \n",
    "        self.BN1 = nn.BatchNorm2d(32)\n",
    "        self.BN11 = nn.BatchNorm2d(32)\n",
    "        self.BN2 = nn.BatchNorm2d(64)\n",
    "        self.BN22 = nn.BatchNorm2d(64)\n",
    "        self.BN3 = nn.BatchNorm2d(128)\n",
    "        self.BN33 = nn.BatchNorm2d(128)\n",
    "\n",
    "        self.BNFC = nn.BatchNorm1d(self.fc_features)\n",
    "        self.maxpool1 = nn.MaxPool2d(2,2)\n",
    "        self.maxpool2 = nn.MaxPool2d((2,2),(2,2))\n",
    "        self.softmax = nn.Softmax(dim=1)\n",
    "        \n",
    "        self.flatten = torch.nn.Flatten()\n",
    "        \n",
    "        # self.fc1 = nn.Linear(64*32*32,self.fc_features)\n",
    "        # self.fc2 = nn.Linear(self.fc_features + 1,self.num_classes) \n",
    "        self.fc1 = nn.Linear(1152,self.fc_features)\n",
    "        self.fc2 = nn.Linear(self.fc_features, 1) \n",
    "        self.dropout = nn.Dropout(0.35)\n",
    "\n",
    "        self.BNout = nn.BatchNorm1d(1)\n",
    "        self.sigmoid = nn.Sigmoid()\n",
    "        self.tanh = nn.Tanh()\n",
    "  \n",
    "    def forward(self,x,timestamp):\n",
    "        # add sequence of convolutional and max pooling layers\n",
    "        x = self.maxpool1(F.relu(self.BN1(self.C1(x))))\n",
    "        x = self.maxpool1(F.relu(self.BN11(self.C11(x))))\n",
    "        x = self.maxpool1(F.relu(self.BN2(self.C2(x))))\n",
    "        x = self.maxpool1(F.relu(self.BN22(self.C22(x))))\n",
    "        x = self.maxpool1(F.relu(self.BN3(self.C3(x))))\n",
    "        x = self.maxpool1(F.relu(self.BN33(self.C33(x))))\n",
    "        # flatten image input\n",
    "        x = x.view(-1,1152)\n",
    "        x =  self.BNFC(self.fc1(x))\n",
    "        x = self.dropout(x)\n",
    "        # if not time_test:\n",
    "        #   x = torch.cat((x, extra_feature/240), 1) #normalize extra_feature\n",
    "        #   x = self.fc2(x)\n",
    "        # else:\n",
    "          # x = torch.cat((x, (extra_feature-2)/100), 1) #normalize extra_feature\n",
    "        x = self.fc2(x)\n",
    "        x = self.BNout(x)\n",
    "        x = self.sigmoid(x) * 1440\n",
    "        #x = self.softmax(x) #already included in CrossEntropyLoss\n",
    "        return x\n",
    "        "
   ]
  },
  {
   "cell_type": "code",
   "execution_count": 4,
   "metadata": {},
   "outputs": [],
   "source": [
    "hpss_model = HPSSCnnAudioNet(1)\n",
    "mono_model = CnnAudioNet(1)"
   ]
  },
  {
   "cell_type": "code",
   "execution_count": 5,
   "metadata": {},
   "outputs": [
    {
     "data": {
      "text/plain": [
       "<All keys matched successfully>"
      ]
     },
     "execution_count": 5,
     "metadata": {},
     "output_type": "execute_result"
    }
   ],
   "source": [
    "# mono_model.load_state_dict(torch.load(r\"D:\\git\\Acoustic-Scene-Classification-and-Time-of-Day-Estimation\\weights\\Mono\\spot_2_3_4_5_6_7_8_9_10_11\\MonoCnnAudioNet_74.pt\"))\n",
    "hpss_model.load_state_dict(torch.load(r\"D:\\git\\Acoustic-Scene-Classification-and-Time-of-Day-Estimation\\weights\\HPSS\\spot_2_3_4_5_6_7_8_9_10_11\\HPSSCnnAudioNet_30.pt\"))"
   ]
  },
  {
   "cell_type": "code",
   "execution_count": 6,
   "metadata": {},
   "outputs": [],
   "source": [
    "\n",
    "\n",
    "import torch.nn as nn\n",
    "import torch.nn.functional as F\n",
    "\n",
    "# define the NN architecture\n",
    "class ConvAutoencoder(nn.Module):\n",
    "    def __init__(self):\n",
    "        super(ConvAutoencoder, self).__init__()\n",
    "        # conv layer (depth from 1 --> 16), 3x3 kernels\n",
    "        self.conv1 = nn.Conv2d(1, 16, 3, padding=1)  \n",
    "        # conv layer (depth from 16 --> 2), 3x3 kernels\n",
    "        self.conv2 = nn.Conv2d(16, 3, 3, padding=1)\n",
    "        # pooling layer to reduce x-y dims by two; kernel and stride of 2\n",
    "        self.pool1 = nn.MaxPool2d(2,stride=(2,2),padding=1)\n",
    "        self.pool2 = nn.MaxPool2d(2,stride=(2,2),padding=0)\n",
    "\n",
    "    def forward(self, x):\n",
    "        x = F.relu(self.conv1(x))\n",
    "        x = self.pool1(x)\n",
    "        # add second hidden layer\n",
    "        x = F.relu(self.conv2(x))\n",
    "        x = self.pool2(x)  # compressed representation\n",
    "                \n",
    "        return x"
   ]
  },
  {
   "cell_type": "code",
   "execution_count": 26,
   "metadata": {},
   "outputs": [],
   "source": [
    "def get_sig(filename, sample_rate=16000):\n",
    "    y, sr = librosa.load(filename,sr=sample_rate, offset=0, duration=30)\n",
    "    return y\n",
    "    \n",
    "def createMonoSpectrogram(filename, n_mels=128, n_fft=2048, hop_length=512):\n",
    "  sig, sr = sf.read(filename)\n",
    "  sig = sig[:,0]\n",
    "  S = librosa.feature.melspectrogram(y=sig, sr=sr, hop_length=hop_length, n_fft=n_fft, n_mels=n_mels)\n",
    "  return S\n",
    "\n",
    "def createMonoSpectrogram(sig, sr, n_mels=128, n_fft=2048, hop_length=512):\n",
    "  sig = sig[:,0]\n",
    "\n",
    "  S = librosa.feature.melspectrogram(y=sig, sr=sr, hop_length=hop_length, n_fft=n_fft, n_mels=n_mels)\n",
    "  return S\n",
    "\n",
    "def createHPSS(y, n_fft=2544, hop_length=520):\n",
    "\n",
    "  D = librosa.stft(y,n_fft=2544,hop_length=520)\n",
    "  D_harmonic, D_percussive = librosa.decompose.hpss(D, margin=10)\n",
    "  D_harmonic_downsampled = skimage.measure.block_reduce(D_harmonic, (5,10), func=np.max, cval=0)\n",
    "  D_percussive_downsampled = skimage.measure.block_reduce(D_percussive, (5,10), func=np.max, cval=0)\n",
    "  S = np.array([D_harmonic_downsampled,D_percussive_downsampled])\n",
    "  return S\n",
    "\n",
    "\n",
    "class Dataset(torch.utils.data.Dataset):\n",
    "    def __init__(self, df, sample_rate=16000):\n",
    "        'Initialization'\n",
    "\n",
    "        self.df = df\n",
    "        self.sample_rate = sample_rate\n",
    "        \n",
    "    def __len__(self):\n",
    "        'Denotes the total number of samples'\n",
    "        return len(self.df)\n",
    "\n",
    "    def __getitem__(self, index):\n",
    "        try:\n",
    "          'Generates one sample of data'\n",
    "          file_name = self.df.path[index]\n",
    "          sig = get_sig(file_name, sample_rate)\n",
    "          # S = createHPSS(sig)\n",
    "          Im_hpss = None#torch.from_numpy(S).float()\n",
    "\n",
    "          return sig, Im_hpss, self.df.time_of_the_day[index]\n",
    "        except:\n",
    "           return None,None,None"
   ]
  },
  {
   "cell_type": "code",
   "execution_count": 27,
   "metadata": {},
   "outputs": [],
   "source": [
    "import pandas as pd"
   ]
  },
  {
   "cell_type": "code",
   "execution_count": 28,
   "metadata": {},
   "outputs": [],
   "source": [
    "test_df = pd.read_csv(r\"D:\\git\\Acoustic-Scene-Classification-and-Time-of-Day-Estimation\\TestSet\\labels.csv\")"
   ]
  },
  {
   "cell_type": "code",
   "execution_count": 29,
   "metadata": {},
   "outputs": [],
   "source": [
    "train_df = pd.read_csv(r\"D:\\git\\Acoustic-Scene-Classification-and-Time-of-Day-Estimation\\DataSet\\labels.csv\")"
   ]
  },
  {
   "cell_type": "code",
   "execution_count": 30,
   "metadata": {},
   "outputs": [],
   "source": [
    "train_df['name'] = train_df['filename'].apply(lambda x:x.split('.')[0])\n",
    "test_df['name'] = test_df['filename'].apply(lambda x:x.split('.')[0])"
   ]
  },
  {
   "cell_type": "code",
   "execution_count": 31,
   "metadata": {},
   "outputs": [],
   "source": [
    "from pathlib import Path\n",
    "\n",
    "files = [str(x) for x in Path(r'D:\\Birds_audio').rglob('*.flac')]\n",
    "\n",
    "df_lst = [(x,x.split('\\\\')[-1].split('_')[0],x.split('\\\\')[-1].split('.')[0]) for x in files]\n",
    "\n",
    "files_df = pd.DataFrame(df_lst,columns=['path','spot','name'])"
   ]
  },
  {
   "cell_type": "code",
   "execution_count": 32,
   "metadata": {},
   "outputs": [],
   "source": [
    "files_df.spot = files_df.spot.astype('int64')"
   ]
  },
  {
   "cell_type": "code",
   "execution_count": 33,
   "metadata": {},
   "outputs": [],
   "source": [
    "merged_train = train_df.merge(files_df,'inner',left_on=['name','label'],right_on=['name','spot'])"
   ]
  },
  {
   "cell_type": "code",
   "execution_count": 34,
   "metadata": {},
   "outputs": [],
   "source": [
    "merged_test = test_df.merge(files_df,'inner',left_on=['name','label'],right_on=['name','spot'])"
   ]
  },
  {
   "cell_type": "code",
   "execution_count": 35,
   "metadata": {},
   "outputs": [],
   "source": [
    "def filename_to_time(file_name) :  \n",
    "    timestam_str = file_name.split(\"_\", 1)[1]\n",
    "    timestam_str = (timestam_str.split(\".\", 1)[0]).split(\" \",1)[0]\n",
    "    timestamp = int(timestam_str)/1000 # quantization of 30-minutes\n",
    "    return timestamp"
   ]
  },
  {
   "cell_type": "code",
   "execution_count": 36,
   "metadata": {},
   "outputs": [],
   "source": [
    "files_df['time_of_the_day'] = files_df.name.apply(lambda x: filename_to_time(x)) "
   ]
  },
  {
   "cell_type": "code",
   "execution_count": 37,
   "metadata": {},
   "outputs": [],
   "source": [
    "s = set(merged_train.name.values )\n",
    "files_df['in_train'] = files_df['name'].apply(lambda x: x in s )"
   ]
  },
  {
   "cell_type": "code",
   "execution_count": 38,
   "metadata": {},
   "outputs": [],
   "source": [
    "s = set(merged_test.name.values )\n",
    "files_df['in_test'] = files_df['name'].apply(lambda x: x in s )"
   ]
  },
  {
   "cell_type": "code",
   "execution_count": 20,
   "metadata": {},
   "outputs": [],
   "source": [
    "ds = Dataset(files_df)"
   ]
  },
  {
   "cell_type": "code",
   "execution_count": 25,
   "metadata": {},
   "outputs": [],
   "source": [
    "# sig = get_sig(files_df.path[0])\n",
    "# S = createHPSS(sig)"
   ]
  },
  {
   "cell_type": "code",
   "execution_count": 24,
   "metadata": {},
   "outputs": [],
   "source": [
    "hpss_model = hpss_model.eval().cuda()"
   ]
  },
  {
   "cell_type": "code",
   "execution_count": 25,
   "metadata": {},
   "outputs": [],
   "source": []
  },
  {
   "cell_type": "code",
   "execution_count": 26,
   "metadata": {},
   "outputs": [],
   "source": [
    "def helper(index):\n",
    "\n",
    "    try:\n",
    "        file_name = files_df.path[index]\n",
    "        sig = get_sig(file_name)\n",
    "        S = createHPSS(sig)\n",
    "        Im_hpss = torch.from_numpy(S).float()\n",
    "\n",
    "        torch.save(Im_hpss, fr'G:\\My Drive\\birds_audio\\{files_df.spot[index]}_{files_df.name[index]}.hpss')\n",
    "        # pred_times.append(hpss_model(hpss.cuda().unsqueeze(0), timestamp=None).item())\n",
    "        dy = librosa.resample(sig,orig_sr=44100,target_sr=16000).astype('float32')\n",
    "        sf.write(fr'G:\\My Drive\\birds_audio\\{files_df.spot[index]}_{files_df.name[index]}.flac',dy,16000)\n",
    "    except:\n",
    "        import traceback\n",
    "        print(traceback.format_exc())\n"
   ]
  },
  {
   "cell_type": "code",
   "execution_count": 27,
   "metadata": {},
   "outputs": [
    {
     "name": "stderr",
     "output_type": "stream",
     "text": [
      "C:\\Users\\danny\\AppData\\Local\\Temp\\ipykernel_4996\\1921238296.py:5: TqdmDeprecationWarning: This function will be removed in tqdm==5.0.0\n",
      "Please use `tqdm.notebook.tqdm` instead of `tqdm.tqdm_notebook`\n",
      "  for i,(y,hpss, timestamp) in enumerate(tqdm.tqdm_notebook(ds,total=len(ds))):\n"
     ]
    },
    {
     "data": {
      "application/vnd.jupyter.widget-view+json": {
       "model_id": "9f237164af8a457c823230a6de621074",
       "version_major": 2,
       "version_minor": 0
      },
      "text/plain": [
       "  0%|          | 0/87245 [00:00<?, ?it/s]"
      ]
     },
     "metadata": {},
     "output_type": "display_data"
    },
    {
     "name": "stderr",
     "output_type": "stream",
     "text": [
      "C:\\Users\\danny\\AppData\\Local\\Temp\\ipykernel_4996\\2442042022.py:43: UserWarning: Casting complex values to real discards the imaginary part (Triggered internally at ..\\aten\\src\\ATen\\native\\Copy.cpp:276.)\n",
      "  Im_hpss = torch.from_numpy(S).float()\n"
     ]
    }
   ],
   "source": [
    "if __name__ == '__main__':\n",
    "    # dl = torch.utils.data.DataLoader(ds,batch_size=1,num_workers=3,prefetch_factor=4)\n",
    "    pred_times = []\n",
    "    with torch.no_grad():\n",
    "        for i,(y,hpss, timestamp) in enumerate(tqdm.tqdm_notebook(ds,total=len(ds))):\n",
    "            if y is None:\n",
    "                continue\n",
    "            try:\n",
    "                torch.save(hpss, files_df.path[i]+'.hpss')\n",
    "                pred_times.append(hpss_model(hpss.cuda().unsqueeze(0), timestamp=None).item())\n",
    "                # dy = librosa.resample(y,orig_sr=44100,target_sr=16000).astype('float32')\n",
    "                # sf.write(fr'G:\\My Drive\\birds_audio\\{files_df.spot[i]}_{files_df.name[i]}.flac',dy,16000)\n",
    "            except:\n",
    "                import traceback\n",
    "                print(traceback.format_exc())"
   ]
  },
  {
   "cell_type": "code",
   "execution_count": 94,
   "metadata": {},
   "outputs": [
    {
     "name": "stderr",
     "output_type": "stream",
     "text": [
      "C:\\Users\\danny\\AppData\\Local\\Temp\\ipykernel_11524\\3782375586.py:1: UserWarning: To copy construct from a tensor, it is recommended to use sourceTensor.clone().detach() or sourceTensor.clone().detach().requires_grad_(True), rather than torch.tensor(sourceTensor).\n",
      "  res = hpss_model(torch.tensor(hpss).unsqueeze(0), timestamp=None)\n"
     ]
    }
   ],
   "source": [
    "res = hpss_model(torch.tensor(hpss).unsqueeze(0), timestamp=None)"
   ]
  },
  {
   "cell_type": "code",
   "execution_count": 95,
   "metadata": {},
   "outputs": [
    {
     "data": {
      "text/plain": [
       "tensor([[316.8122]], grad_fn=<MulBackward0>)"
      ]
     },
     "execution_count": 95,
     "metadata": {},
     "output_type": "execute_result"
    }
   ],
   "source": [
    "res"
   ]
  },
  {
   "cell_type": "code",
   "execution_count": 32,
   "metadata": {},
   "outputs": [],
   "source": [
    "test_files = df.filename.apply(lambda x: x.split('.')[0])"
   ]
  },
  {
   "cell_type": "code",
   "execution_count": 98,
   "metadata": {},
   "outputs": [
    {
     "data": {
      "text/plain": [
       "False"
      ]
     },
     "execution_count": 98,
     "metadata": {},
     "output_type": "execute_result"
    }
   ],
   "source": [
    "'20200401_142800' in test_files"
   ]
  },
  {
   "cell_type": "code",
   "execution_count": 126,
   "metadata": {},
   "outputs": [
    {
     "data": {
      "text/plain": [
       "True"
      ]
     },
     "execution_count": 126,
     "metadata": {},
     "output_type": "execute_result"
    }
   ],
   "source": [
    "test_files[0] == '20200330_031600'"
   ]
  },
  {
   "cell_type": "code",
   "execution_count": 131,
   "metadata": {},
   "outputs": [
    {
     "data": {
      "text/plain": [
       "array(['20200330_031600', '20200330_051200', '20200330_054000', ...,\n",
       "       '20200407_230400', '20200408_021200', '20200408_035200'],\n",
       "      dtype=object)"
      ]
     },
     "execution_count": 131,
     "metadata": {},
     "output_type": "execute_result"
    }
   ],
   "source": [
    "test_files.values"
   ]
  },
  {
   "cell_type": "code",
   "execution_count": 132,
   "metadata": {},
   "outputs": [
    {
     "data": {
      "text/plain": [
       "True"
      ]
     },
     "execution_count": 132,
     "metadata": {},
     "output_type": "execute_result"
    }
   ],
   "source": [
    "'20200330_031600' in test_files.values"
   ]
  },
  {
   "cell_type": "code",
   "execution_count": 115,
   "metadata": {},
   "outputs": [
    {
     "data": {
      "text/plain": [
       "'20200330_031600'"
      ]
     },
     "execution_count": 115,
     "metadata": {},
     "output_type": "execute_result"
    }
   ],
   "source": [
    "test_files[0]"
   ]
  },
  {
   "cell_type": "code",
   "execution_count": 133,
   "metadata": {},
   "outputs": [],
   "source": [
    "files_df['in_test'] = files_df['name'].apply(lambda x: x in test_files.values)"
   ]
  },
  {
   "cell_type": "code",
   "execution_count": 134,
   "metadata": {},
   "outputs": [
    {
     "data": {
      "text/html": [
       "<div>\n",
       "<style scoped>\n",
       "    .dataframe tbody tr th:only-of-type {\n",
       "        vertical-align: middle;\n",
       "    }\n",
       "\n",
       "    .dataframe tbody tr th {\n",
       "        vertical-align: top;\n",
       "    }\n",
       "\n",
       "    .dataframe thead th {\n",
       "        text-align: right;\n",
       "    }\n",
       "</style>\n",
       "<table border=\"1\" class=\"dataframe\">\n",
       "  <thead>\n",
       "    <tr style=\"text-align: right;\">\n",
       "      <th></th>\n",
       "      <th>path</th>\n",
       "      <th>spot</th>\n",
       "      <th>name</th>\n",
       "      <th>in_test</th>\n",
       "    </tr>\n",
       "  </thead>\n",
       "  <tbody>\n",
       "    <tr>\n",
       "      <th>22</th>\n",
       "      <td>F:\\bird identification2\\Quarantine recordings ...</td>\n",
       "      <td>1</td>\n",
       "      <td>20200430_040000</td>\n",
       "      <td>True</td>\n",
       "    </tr>\n",
       "    <tr>\n",
       "      <th>24</th>\n",
       "      <td>F:\\bird identification2\\Quarantine recordings ...</td>\n",
       "      <td>1</td>\n",
       "      <td>20200430_070000</td>\n",
       "      <td>True</td>\n",
       "    </tr>\n",
       "    <tr>\n",
       "      <th>30</th>\n",
       "      <td>F:\\bird identification2\\Quarantine recordings ...</td>\n",
       "      <td>1</td>\n",
       "      <td>20200430_150000</td>\n",
       "      <td>True</td>\n",
       "    </tr>\n",
       "    <tr>\n",
       "      <th>34</th>\n",
       "      <td>F:\\bird identification2\\Quarantine recordings ...</td>\n",
       "      <td>1</td>\n",
       "      <td>20200430_200000</td>\n",
       "      <td>True</td>\n",
       "    </tr>\n",
       "    <tr>\n",
       "      <th>53</th>\n",
       "      <td>F:\\bird identification2\\Quarantine recordings ...</td>\n",
       "      <td>1</td>\n",
       "      <td>20200501_220000</td>\n",
       "      <td>True</td>\n",
       "    </tr>\n",
       "    <tr>\n",
       "      <th>...</th>\n",
       "      <td>...</td>\n",
       "      <td>...</td>\n",
       "      <td>...</td>\n",
       "      <td>...</td>\n",
       "    </tr>\n",
       "    <tr>\n",
       "      <th>108667</th>\n",
       "      <td>F:\\bird identification2\\Quarantine recordings ...</td>\n",
       "      <td>19</td>\n",
       "      <td>20200408_171200</td>\n",
       "      <td>True</td>\n",
       "    </tr>\n",
       "    <tr>\n",
       "      <th>108693</th>\n",
       "      <td>F:\\bird identification2\\Quarantine recordings ...</td>\n",
       "      <td>19</td>\n",
       "      <td>20200408_195400</td>\n",
       "      <td>True</td>\n",
       "    </tr>\n",
       "    <tr>\n",
       "      <th>108722</th>\n",
       "      <td>F:\\bird identification2\\Quarantine recordings ...</td>\n",
       "      <td>19</td>\n",
       "      <td>20200409_072600</td>\n",
       "      <td>True</td>\n",
       "    </tr>\n",
       "    <tr>\n",
       "      <th>108735</th>\n",
       "      <td>F:\\bird identification2\\Quarantine recordings ...</td>\n",
       "      <td>19</td>\n",
       "      <td>20200409_115200</td>\n",
       "      <td>True</td>\n",
       "    </tr>\n",
       "    <tr>\n",
       "      <th>108751</th>\n",
       "      <td>F:\\bird identification2\\Quarantine recordings ...</td>\n",
       "      <td>19</td>\n",
       "      <td>20200409_162800</td>\n",
       "      <td>True</td>\n",
       "    </tr>\n",
       "  </tbody>\n",
       "</table>\n",
       "<p>5306 rows × 4 columns</p>\n",
       "</div>"
      ],
      "text/plain": [
       "                                                     path spot  \\\n",
       "22      F:\\bird identification2\\Quarantine recordings ...    1   \n",
       "24      F:\\bird identification2\\Quarantine recordings ...    1   \n",
       "30      F:\\bird identification2\\Quarantine recordings ...    1   \n",
       "34      F:\\bird identification2\\Quarantine recordings ...    1   \n",
       "53      F:\\bird identification2\\Quarantine recordings ...    1   \n",
       "...                                                   ...  ...   \n",
       "108667  F:\\bird identification2\\Quarantine recordings ...   19   \n",
       "108693  F:\\bird identification2\\Quarantine recordings ...   19   \n",
       "108722  F:\\bird identification2\\Quarantine recordings ...   19   \n",
       "108735  F:\\bird identification2\\Quarantine recordings ...   19   \n",
       "108751  F:\\bird identification2\\Quarantine recordings ...   19   \n",
       "\n",
       "                   name  in_test  \n",
       "22      20200430_040000     True  \n",
       "24      20200430_070000     True  \n",
       "30      20200430_150000     True  \n",
       "34      20200430_200000     True  \n",
       "53      20200501_220000     True  \n",
       "...                 ...      ...  \n",
       "108667  20200408_171200     True  \n",
       "108693  20200408_195400     True  \n",
       "108722  20200409_072600     True  \n",
       "108735  20200409_115200     True  \n",
       "108751  20200409_162800     True  \n",
       "\n",
       "[5306 rows x 4 columns]"
      ]
     },
     "execution_count": 134,
     "metadata": {},
     "output_type": "execute_result"
    }
   ],
   "source": [
    "files_df[files_df.in_test==True]"
   ]
  },
  {
   "cell_type": "code",
   "execution_count": 136,
   "metadata": {},
   "outputs": [
    {
     "data": {
      "text/html": [
       "<div>\n",
       "<style scoped>\n",
       "    .dataframe tbody tr th:only-of-type {\n",
       "        vertical-align: middle;\n",
       "    }\n",
       "\n",
       "    .dataframe tbody tr th {\n",
       "        vertical-align: top;\n",
       "    }\n",
       "\n",
       "    .dataframe thead th {\n",
       "        text-align: right;\n",
       "    }\n",
       "</style>\n",
       "<table border=\"1\" class=\"dataframe\">\n",
       "  <thead>\n",
       "    <tr style=\"text-align: right;\">\n",
       "      <th></th>\n",
       "      <th>path</th>\n",
       "      <th>spot</th>\n",
       "      <th>name</th>\n",
       "      <th>in_test</th>\n",
       "    </tr>\n",
       "  </thead>\n",
       "  <tbody>\n",
       "    <tr>\n",
       "      <th>0</th>\n",
       "      <td>F:\\bird identification2\\Quarantine recordings ...</td>\n",
       "      <td>1</td>\n",
       "      <td>20200428_230000</td>\n",
       "      <td>False</td>\n",
       "    </tr>\n",
       "    <tr>\n",
       "      <th>1</th>\n",
       "      <td>F:\\bird identification2\\Quarantine recordings ...</td>\n",
       "      <td>1</td>\n",
       "      <td>20200429_000000</td>\n",
       "      <td>False</td>\n",
       "    </tr>\n",
       "    <tr>\n",
       "      <th>2</th>\n",
       "      <td>F:\\bird identification2\\Quarantine recordings ...</td>\n",
       "      <td>1</td>\n",
       "      <td>20200429_030000</td>\n",
       "      <td>False</td>\n",
       "    </tr>\n",
       "    <tr>\n",
       "      <th>3</th>\n",
       "      <td>F:\\bird identification2\\Quarantine recordings ...</td>\n",
       "      <td>1</td>\n",
       "      <td>20200429_040000</td>\n",
       "      <td>False</td>\n",
       "    </tr>\n",
       "    <tr>\n",
       "      <th>4</th>\n",
       "      <td>F:\\bird identification2\\Quarantine recordings ...</td>\n",
       "      <td>1</td>\n",
       "      <td>20200429_050000</td>\n",
       "      <td>False</td>\n",
       "    </tr>\n",
       "    <tr>\n",
       "      <th>...</th>\n",
       "      <td>...</td>\n",
       "      <td>...</td>\n",
       "      <td>...</td>\n",
       "      <td>...</td>\n",
       "    </tr>\n",
       "    <tr>\n",
       "      <th>112153</th>\n",
       "      <td>F:\\bird identification2\\Quarantine recordings ...</td>\n",
       "      <td>9</td>\n",
       "      <td>20200329_161400</td>\n",
       "      <td>False</td>\n",
       "    </tr>\n",
       "    <tr>\n",
       "      <th>112154</th>\n",
       "      <td>F:\\bird identification2\\Quarantine recordings ...</td>\n",
       "      <td>9</td>\n",
       "      <td>20200329_162300</td>\n",
       "      <td>False</td>\n",
       "    </tr>\n",
       "    <tr>\n",
       "      <th>112155</th>\n",
       "      <td>F:\\bird identification2\\Quarantine recordings ...</td>\n",
       "      <td>9</td>\n",
       "      <td>20200329_163900</td>\n",
       "      <td>False</td>\n",
       "    </tr>\n",
       "    <tr>\n",
       "      <th>112156</th>\n",
       "      <td>F:\\bird identification2\\Quarantine recordings ...</td>\n",
       "      <td>9</td>\n",
       "      <td>20200329_165000</td>\n",
       "      <td>False</td>\n",
       "    </tr>\n",
       "    <tr>\n",
       "      <th>112157</th>\n",
       "      <td>F:\\bird identification2\\Quarantine recordings ...</td>\n",
       "      <td>9</td>\n",
       "      <td>20200329_165600</td>\n",
       "      <td>False</td>\n",
       "    </tr>\n",
       "  </tbody>\n",
       "</table>\n",
       "<p>112158 rows × 4 columns</p>\n",
       "</div>"
      ],
      "text/plain": [
       "                                                     path spot  \\\n",
       "0       F:\\bird identification2\\Quarantine recordings ...    1   \n",
       "1       F:\\bird identification2\\Quarantine recordings ...    1   \n",
       "2       F:\\bird identification2\\Quarantine recordings ...    1   \n",
       "3       F:\\bird identification2\\Quarantine recordings ...    1   \n",
       "4       F:\\bird identification2\\Quarantine recordings ...    1   \n",
       "...                                                   ...  ...   \n",
       "112153  F:\\bird identification2\\Quarantine recordings ...    9   \n",
       "112154  F:\\bird identification2\\Quarantine recordings ...    9   \n",
       "112155  F:\\bird identification2\\Quarantine recordings ...    9   \n",
       "112156  F:\\bird identification2\\Quarantine recordings ...    9   \n",
       "112157  F:\\bird identification2\\Quarantine recordings ...    9   \n",
       "\n",
       "                   name  in_test  \n",
       "0       20200428_230000    False  \n",
       "1       20200429_000000    False  \n",
       "2       20200429_030000    False  \n",
       "3       20200429_040000    False  \n",
       "4       20200429_050000    False  \n",
       "...                 ...      ...  \n",
       "112153  20200329_161400    False  \n",
       "112154  20200329_162300    False  \n",
       "112155  20200329_163900    False  \n",
       "112156  20200329_165000    False  \n",
       "112157  20200329_165600    False  \n",
       "\n",
       "[112158 rows x 4 columns]"
      ]
     },
     "execution_count": 136,
     "metadata": {},
     "output_type": "execute_result"
    }
   ],
   "source": [
    "files_df"
   ]
  },
  {
   "cell_type": "code",
   "execution_count": 37,
   "metadata": {},
   "outputs": [
    {
     "data": {
      "text/html": [
       "<div>\n",
       "<style scoped>\n",
       "    .dataframe tbody tr th:only-of-type {\n",
       "        vertical-align: middle;\n",
       "    }\n",
       "\n",
       "    .dataframe tbody tr th {\n",
       "        vertical-align: top;\n",
       "    }\n",
       "\n",
       "    .dataframe thead th {\n",
       "        text-align: right;\n",
       "    }\n",
       "</style>\n",
       "<table border=\"1\" class=\"dataframe\">\n",
       "  <thead>\n",
       "    <tr style=\"text-align: right;\">\n",
       "      <th></th>\n",
       "      <th>path</th>\n",
       "      <th>spot</th>\n",
       "      <th>name</th>\n",
       "      <th>in_test</th>\n",
       "    </tr>\n",
       "  </thead>\n",
       "  <tbody>\n",
       "    <tr>\n",
       "      <th>0</th>\n",
       "      <td>F:\\bird identification2\\Quarantine recordings ...</td>\n",
       "      <td>1</td>\n",
       "      <td>20200428_230000</td>\n",
       "      <td>False</td>\n",
       "    </tr>\n",
       "    <tr>\n",
       "      <th>1</th>\n",
       "      <td>F:\\bird identification2\\Quarantine recordings ...</td>\n",
       "      <td>1</td>\n",
       "      <td>20200429_000000</td>\n",
       "      <td>False</td>\n",
       "    </tr>\n",
       "    <tr>\n",
       "      <th>2</th>\n",
       "      <td>F:\\bird identification2\\Quarantine recordings ...</td>\n",
       "      <td>1</td>\n",
       "      <td>20200429_030000</td>\n",
       "      <td>False</td>\n",
       "    </tr>\n",
       "    <tr>\n",
       "      <th>3</th>\n",
       "      <td>F:\\bird identification2\\Quarantine recordings ...</td>\n",
       "      <td>1</td>\n",
       "      <td>20200429_040000</td>\n",
       "      <td>False</td>\n",
       "    </tr>\n",
       "    <tr>\n",
       "      <th>4</th>\n",
       "      <td>F:\\bird identification2\\Quarantine recordings ...</td>\n",
       "      <td>1</td>\n",
       "      <td>20200429_050000</td>\n",
       "      <td>False</td>\n",
       "    </tr>\n",
       "    <tr>\n",
       "      <th>...</th>\n",
       "      <td>...</td>\n",
       "      <td>...</td>\n",
       "      <td>...</td>\n",
       "      <td>...</td>\n",
       "    </tr>\n",
       "    <tr>\n",
       "      <th>112153</th>\n",
       "      <td>F:\\bird identification2\\Quarantine recordings ...</td>\n",
       "      <td>9</td>\n",
       "      <td>20200329_161400</td>\n",
       "      <td>False</td>\n",
       "    </tr>\n",
       "    <tr>\n",
       "      <th>112154</th>\n",
       "      <td>F:\\bird identification2\\Quarantine recordings ...</td>\n",
       "      <td>9</td>\n",
       "      <td>20200329_162300</td>\n",
       "      <td>False</td>\n",
       "    </tr>\n",
       "    <tr>\n",
       "      <th>112155</th>\n",
       "      <td>F:\\bird identification2\\Quarantine recordings ...</td>\n",
       "      <td>9</td>\n",
       "      <td>20200329_163900</td>\n",
       "      <td>False</td>\n",
       "    </tr>\n",
       "    <tr>\n",
       "      <th>112156</th>\n",
       "      <td>F:\\bird identification2\\Quarantine recordings ...</td>\n",
       "      <td>9</td>\n",
       "      <td>20200329_165000</td>\n",
       "      <td>False</td>\n",
       "    </tr>\n",
       "    <tr>\n",
       "      <th>112157</th>\n",
       "      <td>F:\\bird identification2\\Quarantine recordings ...</td>\n",
       "      <td>9</td>\n",
       "      <td>20200329_165600</td>\n",
       "      <td>False</td>\n",
       "    </tr>\n",
       "  </tbody>\n",
       "</table>\n",
       "<p>112158 rows × 4 columns</p>\n",
       "</div>"
      ],
      "text/plain": [
       "                                                     path spot  \\\n",
       "0       F:\\bird identification2\\Quarantine recordings ...    1   \n",
       "1       F:\\bird identification2\\Quarantine recordings ...    1   \n",
       "2       F:\\bird identification2\\Quarantine recordings ...    1   \n",
       "3       F:\\bird identification2\\Quarantine recordings ...    1   \n",
       "4       F:\\bird identification2\\Quarantine recordings ...    1   \n",
       "...                                                   ...  ...   \n",
       "112153  F:\\bird identification2\\Quarantine recordings ...    9   \n",
       "112154  F:\\bird identification2\\Quarantine recordings ...    9   \n",
       "112155  F:\\bird identification2\\Quarantine recordings ...    9   \n",
       "112156  F:\\bird identification2\\Quarantine recordings ...    9   \n",
       "112157  F:\\bird identification2\\Quarantine recordings ...    9   \n",
       "\n",
       "                   name  in_test  \n",
       "0       20200428_230000    False  \n",
       "1       20200429_000000    False  \n",
       "2       20200429_030000    False  \n",
       "3       20200429_040000    False  \n",
       "4       20200429_050000    False  \n",
       "...                 ...      ...  \n",
       "112153  20200329_161400    False  \n",
       "112154  20200329_162300    False  \n",
       "112155  20200329_163900    False  \n",
       "112156  20200329_165000    False  \n",
       "112157  20200329_165600    False  \n",
       "\n",
       "[112158 rows x 4 columns]"
      ]
     },
     "execution_count": 37,
     "metadata": {},
     "output_type": "execute_result"
    }
   ],
   "source": [
    "files_df"
   ]
  }
 ],
 "metadata": {
  "kernelspec": {
   "display_name": "base",
   "language": "python",
   "name": "python3"
  },
  "language_info": {
   "codemirror_mode": {
    "name": "ipython",
    "version": 3
   },
   "file_extension": ".py",
   "mimetype": "text/x-python",
   "name": "python",
   "nbconvert_exporter": "python",
   "pygments_lexer": "ipython3",
   "version": "3.10.9"
  },
  "orig_nbformat": 4
 },
 "nbformat": 4,
 "nbformat_minor": 2
}
