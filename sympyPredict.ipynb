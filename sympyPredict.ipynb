{
  "cells": [
    {
      "cell_type": "markdown",
      "metadata": {
        "id": "view-in-github",
        "colab_type": "text"
      },
      "source": [
        "<a href=\"https://colab.research.google.com/github/Dannynis/Acoustic-Scene-Classification-and-Time-of-Day-Estimation/blob/main/sympyPredict.ipynb\" target=\"_parent\"><img src=\"https://colab.research.google.com/assets/colab-badge.svg\" alt=\"Open In Colab\"/></a>"
      ]
    },
    {
      "cell_type": "code",
      "source": [
        "# pip install -U torch==2.3.0+cu118 -f https://download.pytorch.org/whl/torch_stable.html"
      ],
      "metadata": {
        "id": "tU12JJ_76QXH"
      },
      "execution_count": 1,
      "outputs": []
    },
    {
      "cell_type": "code",
      "execution_count": 2,
      "metadata": {
        "id": "fWNazVfrLvel"
      },
      "outputs": [],
      "source": [
        "from sympy.polys.specialpolys import random_poly\n",
        "from sympy.abc import x\n",
        "from random import randint\n",
        "import sympy as sp\n",
        "\n",
        "import torch\n",
        "import tqdm\n",
        "\n",
        "import numpy as np\n",
        "\n",
        "n = randint(1,5)\n",
        "p = random_poly(x,n,-9,9)\n",
        "# p.evalf(subs = {x:10})"
      ]
    },
    {
      "cell_type": "code",
      "execution_count": 3,
      "metadata": {
        "id": "Qn5SN8qTOj-g"
      },
      "outputs": [],
      "source": [
        "numpy_func = sp.lambdify(x,p, modules='numpy')"
      ]
    },
    {
      "cell_type": "code",
      "execution_count": 4,
      "metadata": {
        "id": "noOcOKdhMjNn"
      },
      "outputs": [],
      "source": [
        "input_x = np.linspace(-10,10,1000)#np.random.rand(10000)"
      ]
    },
    {
      "cell_type": "code",
      "execution_count": 5,
      "metadata": {
        "id": "kFdyRL7rOPqm"
      },
      "outputs": [],
      "source": [
        "output_y = numpy_func(input_x)"
      ]
    },
    {
      "cell_type": "code",
      "execution_count": 6,
      "metadata": {
        "colab": {
          "base_uri": "https://localhost:8080/",
          "height": 448
        },
        "id": "Ut9P7AJGPRGa",
        "outputId": "c73d0373-f762-4cdf-fc5d-037afd8267fc"
      },
      "outputs": [
        {
          "output_type": "execute_result",
          "data": {
            "text/plain": [
              "[<matplotlib.lines.Line2D at 0x7bf18455e500>]"
            ]
          },
          "metadata": {},
          "execution_count": 6
        },
        {
          "output_type": "display_data",
          "data": {
            "text/plain": [
              "<Figure size 640x480 with 1 Axes>"
            ],
            "image/png": "[encoded data removed]"
          },
          "metadata": {}
        }
      ],
      "source": [
        "import matplotlib.pyplot as plt\n",
        "plt.plot(input_x,output_y)"
      ]
    },
    {
      "cell_type": "code",
      "execution_count": 7,
      "metadata": {
        "id": "DFUoznUKQsRO"
      },
      "outputs": [],
      "source": [
        "import tqdm\n",
        "import torch\n",
        "import torch.nn as nn\n",
        "import torch.optim as optim\n",
        "import torch.nn.functional as F\n",
        "from torch.utils.data import DataLoader, Dataset\n"
      ]
    },
    {
      "cell_type": "code",
      "execution_count": 30,
      "metadata": {
        "colab": {
          "base_uri": "https://localhost:8080/"
        },
        "id": "arH9SRUKPs8y",
        "outputId": "8395f305-cc58-4f04-dd57-ae0f4bbbc767"
      },
      "outputs": [
        {
          "output_type": "stream",
          "name": "stderr",
          "text": [
            "100%|██████████| 100000/100000 [03:21<00:00, 496.53it/s]\n"
          ]
        }
      ],
      "source": [
        "vocab =  [str(x) for x in list(range(10))] + ['^','x','+','-','*']\n",
        "def tokenize(p):\n",
        "  total_exp = []\n",
        "  math_exp = str(p).replace('**','^')\n",
        "  for att in math_exp.split():\n",
        "    for c in att:\n",
        "      if vocab.index(c) ==0 :\n",
        "        print(p)\n",
        "        raise\n",
        "      total_exp.append(vocab.index(c))\n",
        "  return total_exp\n",
        "\n",
        "def pad_exp(x):\n",
        "  start = torch.tensor([len(vocab)+1])\n",
        "  end = torch.tensor([len(vocab)+2])\n",
        "  x = torch.tensor(x)\n",
        "  x = torch.cat((start,x,end))\n",
        "  if len(x) > 64:\n",
        "    raise\n",
        "  return nn.functional.pad(x,(0,64-len(x)))\n",
        "\n",
        "\n",
        "data = []\n",
        "for i in tqdm.tqdm(range(100000)):\n",
        "    n = randint(0,5)\n",
        "    p = random_poly(x,n,-9,9)\n",
        "    if n ==0 :\n",
        "      output_y = int(p) + input_x*0\n",
        "    else:\n",
        "      numpy_func = sp.lambdify(x,p, modules='numpy')\n",
        "      output_y = numpy_func(input_x)\n",
        "    toknized_exp = pad_exp(tokenize(str(p)))\n",
        "    data.append((output_y,toknized_exp))"
      ]
    },
    {
      "cell_type": "code",
      "execution_count": 31,
      "metadata": {
        "id": "JTCjwTXFQuq9"
      },
      "outputs": [],
      "source": [
        "import math\n",
        "class PositionalEncoding(nn.Module):\n",
        "    def __init__(self, d_model, dropout, max_len=5000):\n",
        "        \"\"\"\n",
        "        :param max_len: Input length sequence.\n",
        "        :param d_model: Embedding dimension.\n",
        "        :param dropout: Dropout value (default=0.1)\n",
        "        \"\"\"\n",
        "        super(PositionalEncoding, self).__init__()\n",
        "        self.dropout = nn.Dropout(p=dropout)\n",
        "        #todo: why need cuda ????\n",
        "        self.pe = torch.zeros(max_len, d_model).cuda()\n",
        "        self.position = torch.arange(0, max_len, dtype=torch.float).unsqueeze(1)\n",
        "        self.div_term = torch.exp(torch.arange(0, d_model, 2).float() * (-math.log(10000.0) / d_model))\n",
        "        self.pe[:, 0::2] = torch.sin(self.position * self.div_term)\n",
        "        self.pe[:, 1::2] = torch.cos(self.position * self.div_term)\n",
        "        self.pe = self.pe.unsqueeze(0)\n",
        "\n",
        "    def forward(self, x):\n",
        "\n",
        "        x = x + self.pe[:, :x.size(1)]\n",
        "        return self.dropout(x)\n",
        "\n",
        "def create_padding_mask(seq):\n",
        "    mask = (seq != 0)\n",
        "    return mask\n",
        "\n",
        "# Define the Transformer model\n",
        "class Transformer(nn.Module):\n",
        "    def __init__(self, input_vocab_size, target_vocab_size, d_model, nhead, num_encoder_layers, num_decoder_layers, dim_feedforward, dropout=0.1):\n",
        "        super(Transformer, self).__init__()\n",
        "        self.encoder = nn.TransformerEncoder(nn.TransformerEncoderLayer(d_model, nhead, dim_feedforward, dropout, batch_first=True), num_encoder_layers)\n",
        "        self.decoder = nn.TransformerDecoder(nn.TransformerDecoderLayer(d_model, nhead, dim_feedforward, dropout, batch_first=True), num_decoder_layers)\n",
        "        self.target_embedding = nn.Embedding(target_vocab_size, d_model)\n",
        "        self.linear = nn.Linear(d_model, target_vocab_size)\n",
        "        self.prenet = nn.Linear(1, d_model)\n",
        "        self.positional_encode = PositionalEncoding(d_model,dropout)\n",
        "\n",
        "    def forward(self, src, tgt):\n",
        "      tgt_pad_mask = create_padding_mask(tgt)\n",
        "      tgt = self.target_embedding(tgt)\n",
        "      tgt = self.positional_encode(tgt)\n",
        "      src = self.prenet(src.unsqueeze(-1).float())\n",
        "      memory = self.encoder(src)\n",
        "      output = self.decoder(tgt, memory,tgt_key_padding_mask = tgt_pad_mask)\n",
        "      output = self.linear(output)\n",
        "      return output\n",
        "\n",
        "# Define hyperparameters\n",
        "target_vocab_size = len(vocab) + 3  # Add start, end, and padding tokens\n",
        "d_model = 512\n",
        "nhead = 8\n",
        "num_encoder_layers = 6\n",
        "num_decoder_layers = 6\n",
        "dim_feedforward = 2048\n",
        "dropout = 0.1\n",
        "batch_size = 16\n",
        "num_epochs = 1000\n",
        "\n",
        "# Create dataset and dataloader\n",
        "dataloader = DataLoader(data, batch_size=batch_size, shuffle=True)\n"
      ]
    },
    {
      "cell_type": "code",
      "source": [
        "# positional_encode.pe.shape"
      ],
      "metadata": {
        "id": "1eoooSEyk5Oz"
      },
      "execution_count": 32,
      "outputs": []
    },
    {
      "cell_type": "code",
      "source": [
        "# model.target_embedding(tgt).shape"
      ],
      "metadata": {
        "id": "dSnlq45SlG27"
      },
      "execution_count": 33,
      "outputs": []
    },
    {
      "cell_type": "code",
      "source": [],
      "metadata": {
        "id": "BwzmrUL9iE4B"
      },
      "execution_count": 33,
      "outputs": []
    },
    {
      "cell_type": "code",
      "source": [
        "# positional_encode(src.unsqueeze(-1).transpose(0,1))"
      ],
      "metadata": {
        "collapsed": true,
        "id": "ZwGOUOXgigBe"
      },
      "execution_count": 34,
      "outputs": []
    },
    {
      "cell_type": "code",
      "source": [],
      "metadata": {
        "id": "hU5kZJ1zii8y"
      },
      "execution_count": 34,
      "outputs": []
    },
    {
      "cell_type": "code",
      "execution_count": 13,
      "metadata": {
        "id": "ZLpQQt1bunOY"
      },
      "outputs": [],
      "source": [
        "# batch = next(iter(dataloader))\n",
        "# src = batch[0]\n",
        "# tgt = batch[1]"
      ]
    },
    {
      "cell_type": "code",
      "execution_count": 14,
      "metadata": {
        "id": "Eb7Iu_ymYsQX"
      },
      "outputs": [],
      "source": [
        "model = Transformer(1, target_vocab_size, d_model, nhead, num_encoder_layers, num_decoder_layers, dim_feedforward, dropout)\n"
      ]
    },
    {
      "cell_type": "code",
      "execution_count": 15,
      "metadata": {
        "id": "nMY8attuYwi9"
      },
      "outputs": [],
      "source": [
        "# self = model"
      ]
    },
    {
      "cell_type": "code",
      "execution_count": 15,
      "metadata": {
        "id": "ft7Cd7lLBabN"
      },
      "outputs": [],
      "source": []
    },
    {
      "cell_type": "code",
      "execution_count": 15,
      "metadata": {
        "id": "FLq4NrmSCP42"
      },
      "outputs": [],
      "source": []
    },
    {
      "cell_type": "code",
      "source": [
        "# data[0]"
      ],
      "metadata": {
        "id": "TdPZV3remiVr"
      },
      "execution_count": 16,
      "outputs": []
    },
    {
      "cell_type": "code",
      "source": [
        "# src = batch[0]\n",
        "# tgt = batch[1]"
      ],
      "metadata": {
        "id": "0swQitGqlqET"
      },
      "execution_count": 17,
      "outputs": []
    },
    {
      "cell_type": "code",
      "source": [
        "# tgt_pad_mask"
      ],
      "metadata": {
        "id": "2msU1ixVlP-n"
      },
      "execution_count": 18,
      "outputs": []
    },
    {
      "cell_type": "code",
      "execution_count": 19,
      "metadata": {
        "id": "Pwzf_ZY6YyAD"
      },
      "outputs": [],
      "source": [
        "# tgt_pad_mask = create_padding_mask(tgt)\n",
        "# tgt = self.target_embedding(tgt)\n",
        "# src = self.prenet(src.unsqueeze(-1).float())\n",
        "# memory = self.encoder(src)\n",
        "# output = self.decoder(tgt, memory,tgt_key_padding_mask = tgt_pad_mask)\n",
        "# output = self.linear(output)"
      ]
    },
    {
      "cell_type": "code",
      "execution_count": 19,
      "metadata": {
        "id": "byfNVXJVZsRs"
      },
      "outputs": [],
      "source": []
    },
    {
      "cell_type": "code",
      "execution_count": 19,
      "metadata": {
        "id": "NvO6fTvUprY8"
      },
      "outputs": [],
      "source": []
    },
    {
      "cell_type": "code",
      "execution_count": 19,
      "metadata": {
        "id": "pTTtGEwknEBr"
      },
      "outputs": [],
      "source": []
    },
    {
      "cell_type": "code",
      "execution_count": null,
      "metadata": {
        "colab": {
          "base_uri": "https://localhost:8080/"
        },
        "id": "Jgi_RJx1SkJ7",
        "outputId": "7e7ba137-85bc-453a-88e7-2480981678ac"
      },
      "outputs": [
        {
          "output_type": "stream",
          "name": "stderr",
          "text": [
            "  0%|          | 1/6250 [00:01<1:51:27,  1.07s/it]"
          ]
        },
        {
          "output_type": "stream",
          "name": "stdout",
          "text": [
            "Epoch 1, Batch 1, Loss: 0.10271698236465454\n"
          ]
        },
        {
          "output_type": "stream",
          "name": "stderr",
          "text": [
            "  2%|▏         | 101/6250 [01:44<1:49:44,  1.07s/it]"
          ]
        },
        {
          "output_type": "stream",
          "name": "stdout",
          "text": [
            "Epoch 1, Batch 101, Loss: 0.12643322348594666\n"
          ]
        },
        {
          "output_type": "stream",
          "name": "stderr",
          "text": [
            "  2%|▏         | 142/6250 [02:29<1:50:53,  1.09s/it]"
          ]
        }
      ],
      "source": [
        "device = 'cuda'\n",
        "# Instantiate the model\n",
        "\n",
        "# Define loss function and optimizer\n",
        "criterion = nn.CrossEntropyLoss()\n",
        "optimizer = optim.Adam(model.parameters(), lr=0.0001)\n",
        "\n",
        "model.to(device)\n",
        "\n",
        "# Training loop\n",
        "# with torch.autograd.set_detect_anomaly(True):\n",
        "from torch.nn.attention import SDPBackend, sdpa_kernel\n",
        "\n",
        "with sdpa_kernel(SDPBackend.MATH):\n",
        "  for epoch in range(num_epochs):\n",
        "      running_loss = 0.0\n",
        "      for i, batch in tqdm.tqdm(enumerate(dataloader),total=len(dataloader)):\n",
        "          inputs, targets = batch\n",
        "          inputs = inputs.to(device)\n",
        "          targets = targets.to(device)\n",
        "          optimizer.zero_grad()\n",
        "          outputs = model(inputs, targets[:, :-1])  # Exclude the last target token\n",
        "          loss = criterion(outputs.transpose(1, 2), targets[:, 1:])  # Exclude the first target token\n",
        "          loss.backward()\n",
        "          optimizer.step()\n",
        "          running_loss += loss.item()\n",
        "          if i % 100 == 0:\n",
        "              print(f\"Epoch {epoch+1}, Batch {i+1}, Loss: {loss.item()}\")\n",
        "      torch.save(model.state_dict(), f\"/content/drive/MyDrive/sympyPred/model_{epoch+1}.pt\")\n",
        "      print(f\"Epoch {epoch+1}, Loss: {running_loss / len(dataloader)}\")"
      ]
    },
    {
      "cell_type": "code",
      "source": [
        "outputs.argmax(-1)[0]"
      ],
      "metadata": {
        "id": "YtMFDM2Lql3u"
      },
      "execution_count": null,
      "outputs": []
    },
    {
      "cell_type": "code",
      "source": [
        "len(vocab)"
      ],
      "metadata": {
        "id": "RLliY4W3GkST"
      },
      "execution_count": null,
      "outputs": []
    },
    {
      "cell_type": "code",
      "source": [
        "targets[0]"
      ],
      "metadata": {
        "id": "vYKAnnZeGzr_"
      },
      "execution_count": null,
      "outputs": []
    },
    {
      "cell_type": "code",
      "source": [
        "outouts[0]"
      ],
      "metadata": {
        "id": "douyB1HuG3_S"
      },
      "execution_count": null,
      "outputs": []
    },
    {
      "cell_type": "code",
      "source": [],
      "metadata": {
        "id": "F-xh2cBOHh3Z"
      },
      "execution_count": null,
      "outputs": []
    },
    {
      "cell_type": "code",
      "source": [
        "def detokenize(tokens, vocab):\n",
        "    res = []\n",
        "    if tokens[0] == 16:\n",
        "        tokens = tokens[1:]\n",
        "    tokens = tokens[:(tokens == 0).nonzero(as_tuple=True)[0][0]]\n",
        "    for token in tokens:\n",
        "      if token != 17:\n",
        "        res.append(vocab[token])\n",
        "    return res"
      ],
      "metadata": {
        "id": "GmPzG6sQGdJT"
      },
      "execution_count": 22,
      "outputs": []
    },
    {
      "cell_type": "code",
      "source": [
        "# (outputs.argmax(-1)[1] == 0).nonzero(as_tuple=True)[0][0]"
      ],
      "metadata": {
        "id": "AgdLc8IFK3-W"
      },
      "execution_count": 23,
      "outputs": []
    },
    {
      "cell_type": "code",
      "source": [
        "# (targets[1] == 17).nonzero(as_tuple=True)"
      ],
      "metadata": {
        "id": "v818_pLFJdR0"
      },
      "execution_count": 24,
      "outputs": []
    },
    {
      "cell_type": "code",
      "source": [
        "# detokenize(targets[1],vocab)"
      ],
      "metadata": {
        "id": "6DWx0D9sGYun"
      },
      "execution_count": 25,
      "outputs": []
    },
    {
      "cell_type": "code",
      "source": [
        "# targets[1]"
      ],
      "metadata": {
        "id": "Z_-W2yfVItjW"
      },
      "execution_count": 26,
      "outputs": []
    },
    {
      "cell_type": "code",
      "source": [
        "# outputs.argmax(-1)[]"
      ],
      "metadata": {
        "id": "N--j8iK3J119"
      },
      "execution_count": 27,
      "outputs": []
    },
    {
      "cell_type": "code",
      "source": [
        "import sympy"
      ],
      "metadata": {
        "id": "U5GUUO91Lojb"
      },
      "execution_count": 28,
      "outputs": []
    },
    {
      "cell_type": "code",
      "source": [
        "sympy.parsing.sympy_parser.parse_expr(''.join(detokenize(targets[i], vocab)).replace('^','**'))"
      ],
      "metadata": {
        "id": "ejgJybJCLT6u"
      },
      "execution_count": null,
      "outputs": []
    },
    {
      "cell_type": "code",
      "source": [
        "for i in range(10):\n",
        "  print(''.join(detokenize(targets[i], vocab)))\n",
        "  print(''.join(detokenize(outputs.argmax(-1)[i], vocab)))\n",
        "  print('##################################')"
      ],
      "metadata": {
        "colab": {
          "base_uri": "https://localhost:8080/",
          "height": 634
        },
        "id": "Ou4KyDSzILmQ",
        "outputId": "c764416f-b8cd-49ea-e09a-94afd394d9d1"
      },
      "execution_count": 29,
      "outputs": [
        {
          "output_type": "stream",
          "name": "stdout",
          "text": [
            "x-7\n",
            "x-2\n",
            "##################################\n",
            "-7*x^5-8*x^4-3*x^3-4*x^2-7*x+6\n",
            "-6*x^5-6*x^4-6*x^3+8*x^2-8*x+2\n",
            "##################################\n",
            "5*x^2-6*x-5\n",
            "x*x^2-8*x-5\n",
            "##################################\n",
            "-9*x^5-9*x^4-8*x^3-2*x^2-3*x+9\n",
            "-6*x^5-9*x^4-5*x^3+8*x^2-8*x+9\n",
            "##################################\n",
            "-6*x^2+7*x+6\n",
            "-6*x^2-8*x+2\n",
            "##################################\n",
            "5*x^3+6*x^2-2*x\n",
            "-*x^3+8*x^2-x*x\n",
            "##################################\n",
            "3*x^4+7*x^3-6*x^2-8*x-4\n",
            "x*x^4-8*x^3-9*x^2-8*x-9\n",
            "##################################\n",
            "-9\n",
            "-8\n",
            "##################################\n"
          ]
        },
        {
          "output_type": "error",
          "ename": "IndexError",
          "evalue": "index 8 is out of bounds for dimension 0 with size 8",
          "traceback": [
            "\u001b[0;31m---------------------------------------------------------------------------\u001b[0m",
            "\u001b[0;31mIndexError\u001b[0m                                Traceback (most recent call last)",
            "\u001b[0;32m<ipython-input-29-d0bee681769d>\u001b[0m in \u001b[0;36m<cell line: 1>\u001b[0;34m()\u001b[0m\n\u001b[1;32m      1\u001b[0m \u001b[0;32mfor\u001b[0m \u001b[0mi\u001b[0m \u001b[0;32min\u001b[0m \u001b[0mrange\u001b[0m\u001b[0;34m(\u001b[0m\u001b[0;36m10\u001b[0m\u001b[0;34m)\u001b[0m\u001b[0;34m:\u001b[0m\u001b[0;34m\u001b[0m\u001b[0;34m\u001b[0m\u001b[0m\n\u001b[0;32m----> 2\u001b[0;31m   \u001b[0mprint\u001b[0m\u001b[0;34m(\u001b[0m\u001b[0;34m''\u001b[0m\u001b[0;34m.\u001b[0m\u001b[0mjoin\u001b[0m\u001b[0;34m(\u001b[0m\u001b[0mdetokenize\u001b[0m\u001b[0;34m(\u001b[0m\u001b[0mtargets\u001b[0m\u001b[0;34m[\u001b[0m\u001b[0mi\u001b[0m\u001b[0;34m]\u001b[0m\u001b[0;34m,\u001b[0m \u001b[0mvocab\u001b[0m\u001b[0;34m)\u001b[0m\u001b[0;34m)\u001b[0m\u001b[0;34m)\u001b[0m\u001b[0;34m\u001b[0m\u001b[0;34m\u001b[0m\u001b[0m\n\u001b[0m\u001b[1;32m      3\u001b[0m   \u001b[0mprint\u001b[0m\u001b[0;34m(\u001b[0m\u001b[0;34m''\u001b[0m\u001b[0;34m.\u001b[0m\u001b[0mjoin\u001b[0m\u001b[0;34m(\u001b[0m\u001b[0mdetokenize\u001b[0m\u001b[0;34m(\u001b[0m\u001b[0moutputs\u001b[0m\u001b[0;34m.\u001b[0m\u001b[0margmax\u001b[0m\u001b[0;34m(\u001b[0m\u001b[0;34m-\u001b[0m\u001b[0;36m1\u001b[0m\u001b[0;34m)\u001b[0m\u001b[0;34m[\u001b[0m\u001b[0mi\u001b[0m\u001b[0;34m]\u001b[0m\u001b[0;34m,\u001b[0m \u001b[0mvocab\u001b[0m\u001b[0;34m)\u001b[0m\u001b[0;34m)\u001b[0m\u001b[0;34m)\u001b[0m\u001b[0;34m\u001b[0m\u001b[0;34m\u001b[0m\u001b[0m\n\u001b[1;32m      4\u001b[0m   \u001b[0mprint\u001b[0m\u001b[0;34m(\u001b[0m\u001b[0;34m'##################################'\u001b[0m\u001b[0;34m)\u001b[0m\u001b[0;34m\u001b[0m\u001b[0;34m\u001b[0m\u001b[0m\n",
            "\u001b[0;31mIndexError\u001b[0m: index 8 is out of bounds for dimension 0 with size 8"
          ]
        }
      ]
    },
    {
      "cell_type": "code",
      "source": [
        "outputs[-1].argmax(-1)"
      ],
      "metadata": {
        "id": "vEZ8hdBFIdYr"
      },
      "execution_count": null,
      "outputs": []
    },
    {
      "cell_type": "code",
      "source": [
        "vocab"
      ],
      "metadata": {
        "id": "ZnaVsvkedPtU"
      },
      "execution_count": null,
      "outputs": []
    }
  ],
  "metadata": {
    "colab": {
      "provenance": [],
      "gpuType": "T4",
      "mount_file_id": "1NT6xrIT-MFQZAo1EnGyqnp1CDXkDE4vO",
      "authorship_tag": "ABX9TyO5OaRClq2H5kqIqKKRaV1/",
      "include_colab_link": true
    },
    "kernelspec": {
      "display_name": "Python 3",
      "name": "python3"
    },
    "language_info": {
      "name": "python"
    },
    "accelerator": "GPU"
  },
  "nbformat": 4,
  "nbformat_minor": 0
}